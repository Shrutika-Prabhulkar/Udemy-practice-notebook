{
  "nbformat": 4,
  "nbformat_minor": 0,
  "metadata": {
    "colab": {
      "name": "Practice Notebook - Python for Data Science - Conditional (If) Statements",
      "provenance": [],
      "collapsed_sections": [
        "EnaCUxpRXT0J",
        "ZX5LhYDuXV2O",
        "7vliBrC5Xk65",
        "0xG8q15EXnW_",
        "2gYk4uIZYFKf",
        "7vPUGzblYGj1",
        "IhBdAGNeXa9N",
        "kBHUUpINXev4",
        "Xk2YcqtKXgiL"
      ],
      "toc_visible": true,
      "include_colab_link": true
    },
    "kernelspec": {
      "name": "python3",
      "display_name": "Python 3"
    }
  },
  "cells": [
    {
      "cell_type": "markdown",
      "metadata": {
        "id": "view-in-github",
        "colab_type": "text"
      },
      "source": [
        "<a href=\"https://colab.research.google.com/github/Shrutika-Prabhulkar/Udemy-practice-notebook/blob/main/Practice_Notebook_Python_Conditional_(If)_Statements.ipynb\" target=\"_parent\"><img src=\"https://colab.research.google.com/assets/colab-badge.svg\" alt=\"Open In Colab\"/></a>"
      ]
    },
    {
      "cell_type": "markdown",
      "metadata": {
        "id": "xOBNy1O1XMNv"
      },
      "source": [
        "<font color=\"blue\">To use this notebook on Colaboratory, you will need to make a copy of it. Go to File > Save a Copy in Drive. You can then use the new copy that will appear in a seperate tab.</font>\n"
      ]
    },
    {
      "cell_type": "markdown",
      "metadata": {
        "id": "qcpLR3a_XPLd"
      },
      "source": [
        "# Practice Notebook: Python for Data Science - Conditional (If) Statements"
      ]
    },
    {
      "cell_type": "markdown",
      "metadata": {
        "id": "IpSSrJdGXQ5a"
      },
      "source": [
        "## 1. Conditional (If) Statements"
      ]
    },
    {
      "cell_type": "markdown",
      "metadata": {
        "id": "EnaCUxpRXT0J"
      },
      "source": [
        "#### <font color=\"blue\">Examples</font>"
      ]
    },
    {
      "cell_type": "markdown",
      "metadata": {
        "id": "ZX5LhYDuXV2O"
      },
      "source": [
        "##### <font color=\"blue\">Example 1"
      ]
    },
    {
      "cell_type": "code",
      "metadata": {
        "id": "f9y3Gs_0XF9d"
      },
      "source": [
        "# Example 1\n",
        "# ---\n",
        "# If keyword\n",
        "# ---\n",
        "# \n",
        "p = 500\n",
        "q = 100\n",
        "\n",
        "if q < p:\n",
        "  print(\"y is less than x\")"
      ],
      "execution_count": null,
      "outputs": []
    },
    {
      "cell_type": "markdown",
      "metadata": {
        "id": "7vliBrC5Xk65"
      },
      "source": [
        "##### <font color=\"blue\">Example 2"
      ]
    },
    {
      "cell_type": "code",
      "metadata": {
        "id": "HChmx56TXl3j"
      },
      "source": [
        "# Example 2\n",
        "# ---\n",
        "# Elif keyword\n",
        "# ---\n",
        "# \n",
        "r = 100\n",
        "s = 100\n",
        "\n",
        "p = 500\n",
        "q = 100\n",
        "\n",
        "if s < r:\n",
        "  if q < p:\n",
        "    print(\"y is less than x\")\n",
        "elif r == s:\n",
        "  print(\"r and s are equal\")"
      ],
      "execution_count": null,
      "outputs": []
    },
    {
      "cell_type": "markdown",
      "metadata": {
        "id": "0xG8q15EXnW_"
      },
      "source": [
        "##### <font color=\"blue\">Example 3"
      ]
    },
    {
      "cell_type": "code",
      "metadata": {
        "id": "jxac2rfpXpws"
      },
      "source": [
        "# Example 3 \n",
        "# ---\n",
        "# Else keyword\n",
        "# ---\n",
        "# \n",
        "a = 150\n",
        "b = 50\n",
        "\n",
        "if b > a:\n",
        "  print(\"b is greater than a\")\n",
        "elif a == b:\n",
        "  print(\"a and b are equal\")\n",
        "else:\n",
        "  print(\"a is greater than b\")"
      ],
      "execution_count": null,
      "outputs": []
    },
    {
      "cell_type": "markdown",
      "metadata": {
        "id": "2gYk4uIZYFKf"
      },
      "source": [
        "##### <font color=\"blue\">Example 4"
      ]
    },
    {
      "cell_type": "code",
      "metadata": {
        "id": "cswVDkN0YGQV"
      },
      "source": [
        "# Example 4\n",
        "# ---\n",
        "# And keyword\n",
        "# ---\n",
        "# \n",
        "name = \"Mary\"    \n",
        "age  = 30 \n",
        "\n",
        "if name == \"Mary\" and age == 30:\n",
        "  print(\"My name is Mary, and I am 30 years old.\")"
      ],
      "execution_count": null,
      "outputs": []
    },
    {
      "cell_type": "markdown",
      "metadata": {
        "id": "7vPUGzblYGj1"
      },
      "source": [
        "##### <font color=\"blue\">Example 5"
      ]
    },
    {
      "cell_type": "code",
      "metadata": {
        "id": "ivMrjohRYHe6"
      },
      "source": [
        "# Example 5\n",
        "# ---\n",
        "# Or keyword\n",
        "# ---\n",
        "# \n",
        "a = 100\n",
        "b = 101\n",
        "c = 99\n",
        "\n",
        "if a > b or a > c:\n",
        "  print(\"At least one of the conditions is True\")"
      ],
      "execution_count": null,
      "outputs": []
    },
    {
      "cell_type": "markdown",
      "metadata": {
        "id": "IhBdAGNeXa9N"
      },
      "source": [
        "#### <font color=\"green\">Challenges</font> "
      ]
    },
    {
      "cell_type": "markdown",
      "metadata": {
        "id": "kBHUUpINXev4"
      },
      "source": [
        "##### <font color=\"green\">Challenge 1</font>"
      ]
    },
    {
      "cell_type": "code",
      "metadata": {
        "id": "fae-fxEZXfix"
      },
      "source": [
        "# Challenge 1\n",
        "# ---\n",
        "# Question: Find out if t is less than s\n",
        "# ---\n",
        "# OUR CODE BELOW\n",
        "#"
      ],
      "execution_count": null,
      "outputs": []
    },
    {
      "cell_type": "markdown",
      "metadata": {
        "id": "Xk2YcqtKXgiL"
      },
      "source": [
        "##### <font color=\"green\">Challenge 2</font>"
      ]
    },
    {
      "cell_type": "code",
      "metadata": {
        "id": "uTgQ2ZHZXh2k"
      },
      "source": [
        "# Challenge 2\n",
        "# ---\n",
        "# Question: Write a program that checks the value of vowel, i.e. a, e, i, o or u \n",
        "# then displays whether the entered letter is a vowel.\n",
        "# ---\n",
        "# OUR CODE BELOW\n",
        "#"
      ],
      "execution_count": null,
      "outputs": []
    }
  ]
}