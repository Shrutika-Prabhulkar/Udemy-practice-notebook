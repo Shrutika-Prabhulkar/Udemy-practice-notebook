{
 "cells": [
  {
   "cell_type": "markdown",
   "metadata": {
    "colab_type": "text",
    "id": "view-in-github"
   },
   "source": [
    "<a href=\"https://colab.research.google.com/github/Shrutika-Prabhulkar/Udemy-practice-notebook/blob/main/Practice_Notebook_Python_for_Data_Science_Arithmetic_Operators.ipynb\" target=\"_parent\"><img src=\"https://colab.research.google.com/assets/colab-badge.svg\" alt=\"Open In Colab\"/></a>"
   ]
  },
  {
   "cell_type": "markdown",
   "metadata": {
    "id": "Xk9uRo1FHcj7"
   },
   "source": [
    "<font color=\"blue\">To use this notebook on Colaboratory, you will need to make a copy of it. Go to File > Save a Copy in Drive. You can then use the new copy that will appear in the new tab.</font>\n"
   ]
  },
  {
   "cell_type": "markdown",
   "metadata": {
    "id": "qOcy-X35HV_t"
   },
   "source": [
    "# Practice Notebook: Python for Data Science - Arithmetic Operators"
   ]
  },
  {
   "cell_type": "markdown",
   "metadata": {
    "id": "sDoGOkDfHrHD"
   },
   "source": [
    "## 1. Arithmetic Operators"
   ]
  },
  {
   "cell_type": "markdown",
   "metadata": {
    "id": "HX5OKWTeH3y7"
   },
   "source": [
    "#### <font color=\"blue\">Examples</font>"
   ]
  },
  {
   "cell_type": "markdown",
   "metadata": {
    "id": "V3vakOO6H9Vh"
   },
   "source": [
    "##### <font color=\"blue\">Example 1"
   ]
  },
  {
   "cell_type": "code",
   "execution_count": 1,
   "metadata": {
    "id": "LzONiSsfHAmy"
   },
   "outputs": [
    {
     "name": "stdout",
     "output_type": "stream",
     "text": [
      "36\n"
     ]
    }
   ],
   "source": [
    "# Example 1\n",
    "# ---\n",
    "# Let's perform an addition operation below\n",
    "# ---\n",
    "# \n",
    "\n",
    "# Declare our variables\n",
    "a = 20\n",
    "b = 16\n",
    "\n",
    "# Addition\n",
    "c = a + b\n",
    "\n",
    "# Printing out our results\n",
    "print(c)"
   ]
  },
  {
   "cell_type": "markdown",
   "metadata": {
    "id": "RMTv6MI1IIT_"
   },
   "source": [
    "##### <font color=\"blue\">Example 2"
   ]
  },
  {
   "cell_type": "code",
   "execution_count": 2,
   "metadata": {
    "id": "JPCyGVKjICxP"
   },
   "outputs": [
    {
     "name": "stdout",
     "output_type": "stream",
     "text": [
      "1.25\n"
     ]
    }
   ],
   "source": [
    "# Example 2\n",
    "# ---\n",
    "# Performing a division operation\n",
    "# ---\n",
    "# \n",
    "d = a / b\n",
    "\n",
    "# Printing out our result\n",
    "print(d)"
   ]
  },
  {
   "cell_type": "markdown",
   "metadata": {
    "id": "HHygJvHMIPgh"
   },
   "source": [
    "##### <font color=\"blue\">Example 3"
   ]
  },
  {
   "cell_type": "code",
   "execution_count": 3,
   "metadata": {
    "id": "FFONu-_VIO1k"
   },
   "outputs": [
    {
     "name": "stdout",
     "output_type": "stream",
     "text": [
      "36\n"
     ]
    }
   ],
   "source": [
    "# Example 3\n",
    "# ---\n",
    "# Using the increment operator to perform a = a + b \n",
    "# ---\n",
    "# \n",
    "\n",
    "# Using the increment operator\n",
    "a += b\n",
    "\n",
    "# Printing out our result\n",
    "print(a)"
   ]
  },
  {
   "cell_type": "markdown",
   "metadata": {
    "id": "EqUWEUsNINyj"
   },
   "source": [
    "#### <font color=\"green\">Challenges</font> "
   ]
  },
  {
   "cell_type": "markdown",
   "metadata": {
    "id": "ExGMoK-pIb8p"
   },
   "source": [
    "##### <font color=\"green\">Challenge 1</font>"
   ]
  },
  {
   "cell_type": "code",
   "execution_count": 2,
   "metadata": {
    "id": "DnfLaMI-IhDi"
   },
   "outputs": [
    {
     "name": "stdout",
     "output_type": "stream",
     "text": [
      "4\n"
     ]
    }
   ],
   "source": [
    "# Challenge 1\n",
    "# ---\n",
    "# Question: Subtract b from a using the above declared variables\n",
    "# ---\n",
    "# OUR CODE GOES HERE\n",
    "a = 20\n",
    "b = 16\n",
    "subtract = a-b\n",
    "print(subtract)"
   ]
  },
  {
   "cell_type": "markdown",
   "metadata": {
    "id": "ZfjZLNgMIeYh"
   },
   "source": [
    "##### <font color=\"green\">Challenge 2</font>"
   ]
  },
  {
   "cell_type": "code",
   "execution_count": 3,
   "metadata": {
    "id": "gUZE2lrcIhXi"
   },
   "outputs": [
    {
     "name": "stdout",
     "output_type": "stream",
     "text": [
      "320\n"
     ]
    }
   ],
   "source": [
    "# Challenge 2\n",
    "# ---\n",
    "# Question: Muplitiply a and b variables\n",
    "# ---\n",
    "# OUR CODE GOES HERE\n",
    "multiplication = a*b\n",
    "print(multiplication)"
   ]
  },
  {
   "cell_type": "markdown",
   "metadata": {
    "id": "GjfFmzfjIfZO"
   },
   "source": [
    "##### <font color=\"green\">Challenge 3</font>"
   ]
  },
  {
   "cell_type": "code",
   "execution_count": 4,
   "metadata": {
    "id": "8KDbHHs2IhuL"
   },
   "outputs": [
    {
     "name": "stdout",
     "output_type": "stream",
     "text": [
      "4\n"
     ]
    }
   ],
   "source": [
    "# Challenge 3 \n",
    "# ---\n",
    "# Question: Using the decrement operator to perform a = a - b \n",
    "# ---\n",
    "# OUR CODE GOES HERE\n",
    "decrement = a-b\n",
    "print(decrement)"
   ]
  },
  {
   "cell_type": "code",
   "execution_count": null,
   "metadata": {},
   "outputs": [],
   "source": []
  }
 ],
 "metadata": {
  "colab": {
   "collapsed_sections": [
    "HX5OKWTeH3y7",
    "V3vakOO6H9Vh",
    "RMTv6MI1IIT_",
    "HHygJvHMIPgh",
    "EqUWEUsNINyj",
    "ExGMoK-pIb8p",
    "ZfjZLNgMIeYh",
    "GjfFmzfjIfZO"
   ],
   "include_colab_link": true,
   "name": "Practice Notebook: Python for Data Science - Arithmetic Operators",
   "provenance": [],
   "toc_visible": true
  },
  "kernelspec": {
   "display_name": "Python 3",
   "language": "python",
   "name": "python3"
  },
  "language_info": {
   "codemirror_mode": {
    "name": "ipython",
    "version": 3
   },
   "file_extension": ".py",
   "mimetype": "text/x-python",
   "name": "python",
   "nbconvert_exporter": "python",
   "pygments_lexer": "ipython3",
   "version": "3.7.3"
  }
 },
 "nbformat": 4,
 "nbformat_minor": 1
}
