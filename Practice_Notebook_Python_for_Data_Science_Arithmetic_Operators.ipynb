{
  "nbformat": 4,
  "nbformat_minor": 0,
  "metadata": {
    "colab": {
      "name": "Practice Notebook: Python for Data Science - Arithmetic Operators",
      "provenance": [],
      "collapsed_sections": [
        "HX5OKWTeH3y7",
        "V3vakOO6H9Vh",
        "RMTv6MI1IIT_",
        "HHygJvHMIPgh",
        "EqUWEUsNINyj",
        "ExGMoK-pIb8p",
        "ZfjZLNgMIeYh",
        "GjfFmzfjIfZO"
      ],
      "toc_visible": true,
      "include_colab_link": true
    },
    "kernelspec": {
      "name": "python3",
      "display_name": "Python 3"
    }
  },
  "cells": [
    {
      "cell_type": "markdown",
      "metadata": {
        "id": "view-in-github",
        "colab_type": "text"
      },
      "source": [
        "<a href=\"https://colab.research.google.com/github/Shrutika-Prabhulkar/Udemy-practice-notebook/blob/main/Practice_Notebook_Python_for_Data_Science_Arithmetic_Operators.ipynb\" target=\"_parent\"><img src=\"https://colab.research.google.com/assets/colab-badge.svg\" alt=\"Open In Colab\"/></a>"
      ]
    },
    {
      "cell_type": "markdown",
      "metadata": {
        "id": "Xk9uRo1FHcj7"
      },
      "source": [
        "<font color=\"blue\">To use this notebook on Colaboratory, you will need to make a copy of it. Go to File > Save a Copy in Drive. You can then use the new copy that will appear in the new tab.</font>\n"
      ]
    },
    {
      "cell_type": "markdown",
      "metadata": {
        "id": "qOcy-X35HV_t"
      },
      "source": [
        "# Practice Notebook: Python for Data Science - Arithmetic Operators"
      ]
    },
    {
      "cell_type": "markdown",
      "metadata": {
        "id": "sDoGOkDfHrHD"
      },
      "source": [
        "## 1. Arithmetic Operators"
      ]
    },
    {
      "cell_type": "markdown",
      "metadata": {
        "id": "HX5OKWTeH3y7"
      },
      "source": [
        "#### <font color=\"blue\">Examples</font>"
      ]
    },
    {
      "cell_type": "markdown",
      "metadata": {
        "id": "V3vakOO6H9Vh"
      },
      "source": [
        "##### <font color=\"blue\">Example 1"
      ]
    },
    {
      "cell_type": "code",
      "metadata": {
        "id": "LzONiSsfHAmy"
      },
      "source": [
        "# Example 1\n",
        "# ---\n",
        "# Let's perform an addition operation below\n",
        "# ---\n",
        "# \n",
        "\n",
        "# Declare our variables\n",
        "a = 20\n",
        "b = 16\n",
        "\n",
        "# Addition\n",
        "c = a + b\n",
        "\n",
        "# Printing out our results\n",
        "print(c)"
      ],
      "execution_count": null,
      "outputs": []
    },
    {
      "cell_type": "markdown",
      "metadata": {
        "id": "RMTv6MI1IIT_"
      },
      "source": [
        "##### <font color=\"blue\">Example 2"
      ]
    },
    {
      "cell_type": "code",
      "metadata": {
        "id": "JPCyGVKjICxP"
      },
      "source": [
        "# Example 2\n",
        "# ---\n",
        "# Performing a division operation\n",
        "# ---\n",
        "# \n",
        "d = a / b\n",
        "\n",
        "# Printing out our result\n",
        "print(d)"
      ],
      "execution_count": null,
      "outputs": []
    },
    {
      "cell_type": "markdown",
      "metadata": {
        "id": "HHygJvHMIPgh"
      },
      "source": [
        "##### <font color=\"blue\">Example 3"
      ]
    },
    {
      "cell_type": "code",
      "metadata": {
        "id": "FFONu-_VIO1k"
      },
      "source": [
        "# Example 3\n",
        "# ---\n",
        "# Using the increment operator to perform a = a + b \n",
        "# ---\n",
        "# \n",
        "\n",
        "# Using the increment operator\n",
        "a += b\n",
        "\n",
        "# Printing out our result\n",
        "print(a)"
      ],
      "execution_count": null,
      "outputs": []
    },
    {
      "cell_type": "markdown",
      "metadata": {
        "id": "EqUWEUsNINyj"
      },
      "source": [
        "#### <font color=\"green\">Challenges</font> "
      ]
    },
    {
      "cell_type": "markdown",
      "metadata": {
        "id": "ExGMoK-pIb8p"
      },
      "source": [
        "##### <font color=\"green\">Challenge 1</font>"
      ]
    },
    {
      "cell_type": "code",
      "metadata": {
        "id": "DnfLaMI-IhDi"
      },
      "source": [
        "# Challenge 1\n",
        "# ---\n",
        "# Question: Subtract b from a using the above declared variables\n",
        "# ---\n",
        "# \n",
        "OUR CODE GOES HERE"
      ],
      "execution_count": null,
      "outputs": []
    },
    {
      "cell_type": "markdown",
      "metadata": {
        "id": "ZfjZLNgMIeYh"
      },
      "source": [
        "##### <font color=\"green\">Challenge 2</font>"
      ]
    },
    {
      "cell_type": "code",
      "metadata": {
        "id": "gUZE2lrcIhXi"
      },
      "source": [
        "# Challenge 2\n",
        "# ---\n",
        "# Question: Muplitiply a and b variables\n",
        "# ---\n",
        "# \n",
        "OUR CODE GOES HERE"
      ],
      "execution_count": null,
      "outputs": []
    },
    {
      "cell_type": "markdown",
      "metadata": {
        "id": "GjfFmzfjIfZO"
      },
      "source": [
        "##### <font color=\"green\">Challenge 3</font>"
      ]
    },
    {
      "cell_type": "code",
      "metadata": {
        "id": "8KDbHHs2IhuL"
      },
      "source": [
        "# Challenge 3 \n",
        "# ---\n",
        "# Question: Using the decrement operator to perform a = a - b \n",
        "# ---\n",
        "# \n",
        "OUR CODE GOES HERE"
      ],
      "execution_count": null,
      "outputs": []
    }
  ]
}