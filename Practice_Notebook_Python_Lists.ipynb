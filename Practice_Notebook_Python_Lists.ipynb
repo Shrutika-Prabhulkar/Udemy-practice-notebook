{
  "nbformat": 4,
  "nbformat_minor": 0,
  "metadata": {
    "colab": {
      "name": "Practice Notebook: Python for Data Science - Lists",
      "provenance": [],
      "collapsed_sections": [
        "r6CjXb92QsKs",
        "_We_Aif3Q_n5",
        "sVrIv1ucRAtY",
        "xaLN8jeYRDll",
        "dGKEWiBwTVFM",
        "WnXWTn9WTaJs",
        "96-FMInjQs5S",
        "z9M2LwKAQvN_",
        "fnRxw0qjQ1aZ",
        "HA99lKmhQ68W",
        "z7mA-mghTmOc"
      ],
      "toc_visible": true,
      "include_colab_link": true
    },
    "kernelspec": {
      "name": "python3",
      "display_name": "Python 3"
    }
  },
  "cells": [
    {
      "cell_type": "markdown",
      "metadata": {
        "id": "view-in-github",
        "colab_type": "text"
      },
      "source": [
        "<a href=\"https://colab.research.google.com/github/Shrutika-Prabhulkar/Udemy-practice-notebook/blob/main/Practice_Notebook_Python_Lists.ipynb\" target=\"_parent\"><img src=\"https://colab.research.google.com/assets/colab-badge.svg\" alt=\"Open In Colab\"/></a>"
      ]
    },
    {
      "cell_type": "markdown",
      "metadata": {
        "id": "UJszs2YgQfcU"
      },
      "source": [
        "<font color=\"blue\">To use this notebook on Colaboratory, you will need to make a copy of it. Go to File > Save a Copy in Drive. You can then use the new copy that will appear in a seperate tab.</font>\n"
      ]
    },
    {
      "cell_type": "markdown",
      "metadata": {
        "id": "80kHsk0gQiX5"
      },
      "source": [
        "# Practice Notebook: Python for Data Science - Lists"
      ]
    },
    {
      "cell_type": "markdown",
      "metadata": {
        "id": "WCZMmPJJQpEe"
      },
      "source": [
        "## 1. Lists"
      ]
    },
    {
      "cell_type": "markdown",
      "metadata": {
        "id": "r6CjXb92QsKs"
      },
      "source": [
        "#### <font color=\"blue\">Examples</font>"
      ]
    },
    {
      "cell_type": "markdown",
      "metadata": {
        "id": "_We_Aif3Q_n5"
      },
      "source": [
        "##### <font color=\"blue\">Example 1"
      ]
    },
    {
      "cell_type": "code",
      "metadata": {
        "id": "2JcpAVbvQd1w"
      },
      "source": [
        "# Example 1\n",
        "# ---\n",
        "# Creating a restaurant list\n",
        "# ---\n",
        "# \n",
        "\n",
        "# Defining our list\n",
        "restaurants = [\"cj's\", \"Java\", \"Nyama Mama\", \"Italian\", \"Swahili\", \"Khosa\"]\n",
        "\n",
        "# Printing our result\n",
        "print(restaurants)"
      ],
      "execution_count": null,
      "outputs": []
    },
    {
      "cell_type": "markdown",
      "metadata": {
        "id": "sVrIv1ucRAtY"
      },
      "source": [
        "##### <font color=\"blue\">Example 2"
      ]
    },
    {
      "cell_type": "code",
      "metadata": {
        "id": "aI4qEeumRCRr"
      },
      "source": [
        "# Example 2\n",
        "# ---\n",
        "# Adding elements to a list\n",
        "# ---\n",
        "# \n",
        "\n",
        "# Adding the restaurant Viridian to our restaurants list\n",
        "restaurants.append(\"Viridian\")\n",
        "\n",
        "# Printing our result\n",
        "print(restaurants)"
      ],
      "execution_count": null,
      "outputs": []
    },
    {
      "cell_type": "markdown",
      "metadata": {
        "id": "xaLN8jeYRDll"
      },
      "source": [
        "##### <font color=\"blue\">Example 3"
      ]
    },
    {
      "cell_type": "code",
      "metadata": {
        "id": "eqHEZSfYRE_X"
      },
      "source": [
        "# Example 3 \n",
        "# ---\n",
        "# Updating an element in a list\n",
        "# ---\n",
        "#\n",
        "restaurants[1] = \"Asmara\"\n",
        "\n",
        "# Printing our result\n",
        "print(restaurants)"
      ],
      "execution_count": null,
      "outputs": []
    },
    {
      "cell_type": "markdown",
      "metadata": {
        "id": "dGKEWiBwTVFM"
      },
      "source": [
        "##### <font color=\"blue\">Example 4"
      ]
    },
    {
      "cell_type": "code",
      "metadata": {
        "id": "JTi3KkzITYk8"
      },
      "source": [
        "# Example 4 \n",
        "# ---\n",
        "# Removing an element from a list\n",
        "# ---\n",
        "#\n",
        "restaurants.remove(\"Viridian\")\n",
        "\n",
        "# Printing our result\n",
        "print(restaurants)"
      ],
      "execution_count": null,
      "outputs": []
    },
    {
      "cell_type": "markdown",
      "metadata": {
        "id": "WnXWTn9WTaJs"
      },
      "source": [
        "##### <font color=\"blue\">Example 5"
      ]
    },
    {
      "cell_type": "code",
      "metadata": {
        "id": "3o416dxITbNq"
      },
      "source": [
        "# Example 5\n",
        "# ---\n",
        "# Slicing a list\n",
        "# ---\n",
        "#\n",
        "\n",
        "# Getting the first two elements \n",
        "print(restaurants[0:1])\n",
        "\n",
        "# Getting items from 2nd position to the end \n",
        "print(restaurants[2:])"
      ],
      "execution_count": null,
      "outputs": []
    },
    {
      "cell_type": "markdown",
      "metadata": {
        "id": "96-FMInjQs5S"
      },
      "source": [
        "#### <font color=\"green\">Challenges</font> "
      ]
    },
    {
      "cell_type": "markdown",
      "metadata": {
        "id": "z9M2LwKAQvN_"
      },
      "source": [
        "##### <font color=\"green\">Challenge 1</font>"
      ]
    },
    {
      "cell_type": "code",
      "metadata": {
        "id": "gkiZKIQfQuzt"
      },
      "source": [
        "# Challenge 1\n",
        "# ---\n",
        "# Question: Create a list with 10 kenyan towns.\n",
        "# Towns: Lodwar, Thika, Kitale, Nyeri, Lamu, Naivasha, Nanyuki, Kakamega, Nyahururu, Voi\n",
        "# ---\n",
        "# \n",
        "OUR CODE GOES HERE"
      ],
      "execution_count": null,
      "outputs": []
    },
    {
      "cell_type": "markdown",
      "metadata": {
        "id": "fnRxw0qjQ1aZ"
      },
      "source": [
        "##### <font color=\"green\">Challenge 2</font>"
      ]
    },
    {
      "cell_type": "code",
      "metadata": {
        "id": "dCUhw0npQ4lD"
      },
      "source": [
        "# Challenge 2\n",
        "# ---\n",
        "# Question: Add the towm Homabay to the list\n",
        "# ---\n",
        "# \n",
        "OUR CODE GOES HERE"
      ],
      "execution_count": null,
      "outputs": []
    },
    {
      "cell_type": "markdown",
      "metadata": {
        "id": "HA99lKmhQ68W"
      },
      "source": [
        "##### <font color=\"green\">Challenge 3</font>"
      ]
    },
    {
      "cell_type": "code",
      "metadata": {
        "id": "Ci5HL0QDQ8o-"
      },
      "source": [
        "# Challenge 3\n",
        "# ---\n",
        "# Question: Update the city in the fifth position to Malindi\n",
        "# ---\n",
        "# \n",
        "OUR CODE GOES HERE"
      ],
      "execution_count": null,
      "outputs": []
    },
    {
      "cell_type": "markdown",
      "metadata": {
        "id": "z7mA-mghTmOc"
      },
      "source": [
        "##### <font color=\"green\">Challenge 4</font>"
      ]
    },
    {
      "cell_type": "code",
      "metadata": {
        "id": "d8oGQBGUTr3i"
      },
      "source": [
        "# Challenge 4\n",
        "# ---\n",
        "# Question: Get the city Homabay and Malindi from the kenyan towns list\n",
        "# ---\n",
        "# \n",
        "OUR CODE GOES HERE"
      ],
      "execution_count": null,
      "outputs": []
    }
  ]
}