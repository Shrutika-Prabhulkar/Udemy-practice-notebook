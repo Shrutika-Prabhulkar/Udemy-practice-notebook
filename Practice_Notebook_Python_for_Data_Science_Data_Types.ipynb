{
  "nbformat": 4,
  "nbformat_minor": 0,
  "metadata": {
    "colab": {
      "name": "Practice Notebook: Python for Data Science - Data Types",
      "provenance": [],
      "collapsed_sections": [
        "VtTVm3cvN_lP",
        "qIxhQwTHOIjm",
        "JdKpybEFOJOM",
        "XJoETlR_OKHt",
        "8w3U0HVEOccy",
        "hDZ9eDtmOgLi",
        "SxIaU06sOuYQ",
        "GuR57OHgOBnM",
        "eaq4UrFLONmb",
        "bSurXHq_OOjc",
        "hnyRRASVOPq4",
        "okwTjEZ_PCiN"
      ],
      "toc_visible": true,
      "include_colab_link": true
    },
    "kernelspec": {
      "name": "python3",
      "display_name": "Python 3"
    }
  },
  "cells": [
    {
      "cell_type": "markdown",
      "metadata": {
        "id": "view-in-github",
        "colab_type": "text"
      },
      "source": [
        "<a href=\"https://colab.research.google.com/github/Shrutika-Prabhulkar/Udemy-practice-notebook/blob/main/Practice_Notebook_Python_for_Data_Science_Data_Types.ipynb\" target=\"_parent\"><img src=\"https://colab.research.google.com/assets/colab-badge.svg\" alt=\"Open In Colab\"/></a>"
      ]
    },
    {
      "cell_type": "markdown",
      "metadata": {
        "id": "cPdDT4EfNu8P"
      },
      "source": [
        "<font color=\"blue\">To use this notebook on Colaboratory, you will need to make a copy of it. Go to File > Save a Copy in Drive. You can then use the new copy that will appear in a seperate tab.</font>\n"
      ]
    },
    {
      "cell_type": "markdown",
      "metadata": {
        "id": "dqhVm_8kN2tl"
      },
      "source": [
        "# Practice Notebook: Python for Data Science - Data Types"
      ]
    },
    {
      "cell_type": "markdown",
      "metadata": {
        "id": "qLLe0H-WN7az"
      },
      "source": [
        "## 1. Data Types"
      ]
    },
    {
      "cell_type": "markdown",
      "metadata": {
        "id": "VtTVm3cvN_lP"
      },
      "source": [
        "#### <font color=\"blue\">Examples</font>"
      ]
    },
    {
      "cell_type": "markdown",
      "metadata": {
        "id": "qIxhQwTHOIjm"
      },
      "source": [
        "##### <font color=\"blue\">Example 1"
      ]
    },
    {
      "cell_type": "code",
      "metadata": {
        "id": "n7APi3z1NtN0"
      },
      "source": [
        "# Example 1\n",
        "# ---\n",
        "# Dynamically-inferred types\n",
        "# ---\n",
        "#\n",
        "x = 20\n",
        "print(type(x))\n",
        "x = '20'\n",
        "print(type(x))\n",
        "x = 20.0\n",
        "print(type(x))"
      ],
      "execution_count": null,
      "outputs": []
    },
    {
      "cell_type": "markdown",
      "metadata": {
        "id": "JdKpybEFOJOM"
      },
      "source": [
        "##### <font color=\"blue\">Example 2"
      ]
    },
    {
      "cell_type": "code",
      "metadata": {
        "id": "2Al_wNeZOE7t"
      },
      "source": [
        "# Example 2\n",
        "# ---\n",
        "# Manual type-conversion (string to int)\n",
        "# ---\n",
        "# \n",
        "x = 20\n",
        "y = '5'\n",
        "print(x + int(y))"
      ],
      "execution_count": null,
      "outputs": []
    },
    {
      "cell_type": "markdown",
      "metadata": {
        "id": "XJoETlR_OKHt"
      },
      "source": [
        "##### <font color=\"blue\">Example 3"
      ]
    },
    {
      "cell_type": "code",
      "metadata": {
        "id": "CmPAy-efOEx-"
      },
      "source": [
        "# Example 3\n",
        "# ---\n",
        "# Automatic type-conversion (int to float)\n",
        "# ---\n",
        "#\n",
        "x = 20\n",
        "print(type(x))\n",
        "x += 5.0\n",
        "print(x), type(x)"
      ],
      "execution_count": null,
      "outputs": []
    },
    {
      "cell_type": "markdown",
      "metadata": {
        "id": "8w3U0HVEOccy"
      },
      "source": [
        "##### <font color=\"blue\">Example 4"
      ]
    },
    {
      "cell_type": "code",
      "metadata": {
        "id": "o_qQW55lOeY5"
      },
      "source": [
        "# Example 4\n",
        "# ---\n",
        "# Dividing Integers\n",
        "# ---\n",
        "# \n",
        "a = 20\n",
        "b = 5\n",
        "print(a/b)\n",
        "print(b/a)"
      ],
      "execution_count": null,
      "outputs": []
    },
    {
      "cell_type": "markdown",
      "metadata": {
        "id": "hDZ9eDtmOgLi"
      },
      "source": [
        "##### <font color=\"blue\">Example 5"
      ]
    },
    {
      "cell_type": "code",
      "metadata": {
        "id": "RqtHFRB1OkU-"
      },
      "source": [
        "# Example 5\n",
        "# ---\n",
        "# Forcing float division\n",
        "# ---\n",
        "# \n",
        "print(b/float('5'))\n",
        "# How can you correct this?"
      ],
      "execution_count": null,
      "outputs": []
    },
    {
      "cell_type": "markdown",
      "metadata": {
        "id": "SxIaU06sOuYQ"
      },
      "source": [
        "##### <font color=\"blue\">Example 6"
      ]
    },
    {
      "cell_type": "code",
      "metadata": {
        "id": "Ho7QuNWqOvNs"
      },
      "source": [
        "# Examaple 6\n",
        "# ---\n",
        "# String \"arithmetic\" (actually concatenation)\n",
        "# ---\n",
        "a = 'John '\n",
        "b = 'Doe'\n",
        "print(a + b)"
      ],
      "execution_count": null,
      "outputs": []
    },
    {
      "cell_type": "markdown",
      "metadata": {
        "id": "GuR57OHgOBnM"
      },
      "source": [
        "#### <font color=\"green\">Challenges</font> "
      ]
    },
    {
      "cell_type": "markdown",
      "metadata": {
        "id": "eaq4UrFLONmb"
      },
      "source": [
        "##### <font color=\"green\">Challenge 1</font>"
      ]
    },
    {
      "cell_type": "code",
      "metadata": {
        "id": "sXCvJSB1OD8w"
      },
      "source": [
        "# Challenge 1\n",
        "# ---\n",
        "# Question: Concatenate and print your full names.\n",
        "# ---\n",
        "# \n",
        "OUR CODE GOES HERE\n"
      ],
      "execution_count": null,
      "outputs": []
    },
    {
      "cell_type": "markdown",
      "metadata": {
        "id": "bSurXHq_OOjc"
      },
      "source": [
        "##### <font color=\"green\">Challenge 2</font>"
      ]
    },
    {
      "cell_type": "code",
      "metadata": {
        "id": "fQjDSfP1OEPH"
      },
      "source": [
        "# Challenge 2\n",
        "# ---\n",
        "# Question: Run and correct the following code.\n",
        "# ---\n",
        "# \n",
        "x = 10\n",
        "y = '5'\n",
        "print x + y"
      ],
      "execution_count": null,
      "outputs": []
    },
    {
      "cell_type": "markdown",
      "metadata": {
        "id": "hnyRRASVOPq4"
      },
      "source": [
        "##### <font color=\"green\">Challenge 3</font>"
      ]
    },
    {
      "cell_type": "code",
      "metadata": {
        "id": "7qUmDv5NOFl0"
      },
      "source": [
        "# Challenge 3\n",
        "# ---\n",
        "# Question: Perform integer division of 199 and 3 with the result being a float.\n",
        "# ---\n",
        "# \n",
        "OUR CODE GOES HERE"
      ],
      "execution_count": null,
      "outputs": []
    },
    {
      "cell_type": "markdown",
      "metadata": {
        "id": "okwTjEZ_PCiN"
      },
      "source": [
        "##### <font color=\"green\">Challenge 4</font>"
      ]
    },
    {
      "cell_type": "code",
      "metadata": {
        "id": "YThUHgEzPEfP"
      },
      "source": [
        "# Challenge 4\n",
        "# ---\n",
        "# Question: Concatenate and print your postal address with the City and Country.\n",
        "# ---\n",
        "# \n",
        "OUR CODE GOES HERE"
      ],
      "execution_count": null,
      "outputs": []
    }
  ]
}